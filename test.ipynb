{
 "cells": [
  {
   "cell_type": "code",
   "execution_count": 1,
   "metadata": {},
   "outputs": [],
   "source": [
    "from scipy import optimize,arange\n",
    "from numpy import array\n",
    "import matplotlib.pyplot as plt\n",
    "%matplotlib inline"
   ]
  },
  {
   "cell_type": "markdown",
   "metadata": {},
   "source": [
    "## Demand\n",
    "\n",
    "$$p(x) = a - b(x_{1}+x_{2})\\quad a,b > 0$$"
   ]
  },
  {
   "cell_type": "code",
   "execution_count": 2,
   "metadata": {},
   "outputs": [],
   "source": [
    "def demand(x1,x2,a,b):\n",
    "    return a - b*(x1 + x2)"
   ]
  },
  {
   "cell_type": "markdown",
   "metadata": {},
   "source": [
    "## Cost\n",
    "\n",
    "$$c(x) = \\begin{cases}0 & x = 0 \\\\ cx & \\text{else}\\end{cases}$$"
   ]
  },
  {
   "cell_type": "code",
   "execution_count": 3,
   "metadata": {},
   "outputs": [],
   "source": [
    "# Cost function\n",
    "def cost(x,c):\n",
    "    if x == 0:\n",
    "     cost = 0\n",
    "    else:\n",
    "     cost = c*x\n",
    "    return cost"
   ]
  },
  {
   "cell_type": "markdown",
   "metadata": {},
   "source": [
    "## Profit"
   ]
  },
  {
   "cell_type": "code",
   "execution_count": 4,
   "metadata": {},
   "outputs": [],
   "source": [
    "def profit(x1,x2,c1,a,b):\n",
    "    return demand(x1,x2,a,b)*x1-cost(x1,c1)"
   ]
  },
  {
   "cell_type": "code",
   "execution_count": 5,
   "metadata": {},
   "outputs": [],
   "source": [
    "def reaction(x2,c1,a,b):\n",
    "    x1 = optimize.brute(lambda x: -profit(x,x2,c1,a,b),((0,1,),)) # brute minimizes the function;\n",
    "                                                                 # when we minimize -profits, we maximize profits\n",
    "    return x1[0]"
   ]
  },
  {
   "cell_type": "code",
   "execution_count": 6,
   "metadata": {},
   "outputs": [],
   "source": [
    "def vector_reaction(x,param): # vector param = (a,b,c1,c2)\n",
    "    return array(x) - array([reaction(x[1],param[2],param[0],param[1]),\n",
    "                             reaction(x[0],param[3],param[0],param[1])])"
   ]
  },
  {
   "cell_type": "code",
   "execution_count": 7,
   "metadata": {},
   "outputs": [
    {
     "name": "stdout",
     "output_type": "stream",
     "text": [
      "[40. 40.]\n"
     ]
    }
   ],
   "source": [
    "param = [140,1,20,20]\n",
    "x0 = [20, 20]\n",
    "\n",
    "ans = optimize.fsolve(vector_reaction, x0, args = (param))\n",
    "print(ans)"
   ]
  },
  {
   "cell_type": "code",
   "execution_count": 8,
   "metadata": {},
   "outputs": [],
   "source": [
    "demand = lambda x1, x2 : 140 - (x1 + x2)\n",
    "cost1 = lambda x : 20*x"
   ]
  },
  {
   "cell_type": "code",
   "execution_count": 9,
   "metadata": {},
   "outputs": [],
   "source": [
    "def profit2(x1,x2):\n",
    "    return demand(x1,x2)*x1 - cost1(x1)\n",
    "\n",
    "def reaction2(x2):\n",
    "    x1 = optimize.brute(lambda x: -profit2(x,x2),((0,1,),)) # brute minimizes the function;\n",
    "                                                                 # when we minimize -profits, we maximize profits\n",
    "    return x1[0]\n",
    "\n",
    "def vector_reaction2(x): \n",
    "    return array(x) - array([reaction2(x[1]),reaction2(x[0])])\n",
    "    "
   ]
  },
  {
   "cell_type": "code",
   "execution_count": 10,
   "metadata": {},
   "outputs": [
    {
     "name": "stdout",
     "output_type": "stream",
     "text": [
      "[40. 40.]\n"
     ]
    }
   ],
   "source": [
    "x02 = [0, 0]\n",
    "ans2 = optimize.fsolve(vector_reaction2, x02)\n",
    "print(ans2)"
   ]
  },
  {
   "cell_type": "code",
   "execution_count": 11,
   "metadata": {},
   "outputs": [],
   "source": [
    "\n",
    "profit1 = lambda x1, x2 : demand(x1,x2)*x1 - cost1(x1)\n",
    "\n",
    "profit2 = lambda x1, x2 : demand(x1,x2)*x2 - cost1(x2)\n",
    "\n",
    "def reaction1(x2):\n",
    "    x1 = lambda x2 : optimize.brute(lambda x: -profit1(x,x2),((0,1,),))                                          \n",
    "    return x1[0]\n",
    "\n",
    "def reaction2(x1):\n",
    "    x2 = optimize.brute(lambda x: -profit2(x1,x),((0,1,),))                                                   \n",
    "    return x2[0]"
   ]
  },
  {
   "cell_type": "code",
   "execution_count": 12,
   "metadata": {},
   "outputs": [
    {
     "data": {
      "text/plain": [
       "array([60.        , 58.77548828, 57.55097656, 56.3265625 , 55.10205078,\n",
       "       53.87753906, 52.65302734, 51.42861328, 50.20410156, 48.97958984,\n",
       "       47.75507813, 46.53056641, 45.30615234, 44.08164063, 42.85712891,\n",
       "       41.63261719, 40.40820313, 39.18369141, 37.95917969, 36.73466797,\n",
       "       35.51015625, 34.28574219, 33.06123047, 31.83671875, 30.61220703,\n",
       "       29.38779297, 28.16328125, 26.93876953, 25.71425781, 24.48984375,\n",
       "       23.26533203, 22.04082031, 20.81630859, 19.59179688, 18.36738281,\n",
       "       17.14287109, 15.91835938, 14.69384766, 13.46943359, 12.24492188,\n",
       "       11.02041016,  9.79589844,  8.57138672,  7.34697266,  6.12246094,\n",
       "        4.89794922,  3.6734375 ,  2.44902344,  1.22451172,  0.        ])"
      ]
     },
     "execution_count": 12,
     "metadata": {},
     "output_type": "execute_result"
    }
   ],
   "source": [
    "import numpy as np\n",
    "x2 = np.linspace(0,120)\n",
    "xx = np.array([reaction1(x) for x in x2])\n",
    "xx"
   ]
  },
  {
   "cell_type": "code",
   "execution_count": 13,
   "metadata": {},
   "outputs": [
    {
     "data": {
      "text/plain": [
       "array([60.        , 58.77548828, 57.55097656, 56.3265625 , 55.10205078,\n",
       "       53.87753906, 52.65302734, 51.42861328, 50.20410156, 48.97958984,\n",
       "       47.75507813, 46.53056641, 45.30615234, 44.08164063, 42.85712891,\n",
       "       41.63261719, 40.40820313, 39.18369141, 37.95917969, 36.73466797,\n",
       "       35.51015625, 34.28574219, 33.06123047, 31.83671875, 30.61220703,\n",
       "       29.38779297, 28.16328125, 26.93876953, 25.71425781, 24.48984375,\n",
       "       23.26533203, 22.04082031, 20.81630859, 19.59179688, 18.36738281,\n",
       "       17.14287109, 15.91835938, 14.69384766, 13.46943359, 12.24492188,\n",
       "       11.02041016,  9.79589844,  8.57138672,  7.34697266,  6.12246094,\n",
       "        4.89794922,  3.6734375 ,  2.44902344,  1.22451172,  0.        ])"
      ]
     },
     "execution_count": 13,
     "metadata": {},
     "output_type": "execute_result"
    }
   ],
   "source": [
    "x1 = np.linspace(0,120)\n",
    "yy = np.array([reaction2(x) for x in x1])\n",
    "yy"
   ]
  },
  {
   "cell_type": "code",
   "execution_count": 14,
   "metadata": {},
   "outputs": [
    {
     "data": {
      "image/png": "[encoded data removed]",
      "text/plain": [
       "<Figure size 720x720 with 1 Axes>"
      ]
     },
     "metadata": {
      "needs_background": "light"
     },
     "output_type": "display_data"
    }
   ],
   "source": [
    "import matplotlib.pyplot as plt\n",
    "fig, ax = plt.subplots(figsize=(10,10))\n",
    "ax.plot(xx,x2,color=\"blue\",label=\"Firm 1's Reacton Curve\")\n",
    "ax.plot(x1,yy,color=\"red\",label=\"Firm 2's Reacton Curve\")\n",
    "ax.grid(visible=True)\n",
    "ax.plot([0,40],[40,40],linestyle=\"--\",color=\"red\")\n",
    "ax.plot([40,40],[0,40],linestyle=\"--\",color=\"blue\")\n",
    "ax.scatter(x=40,y=40,color=\"black\",s=100,marker=\"o\",label=\"Equilibrium point\")\n",
    "ax.text(x=40.5,y=40.5,s=\"(40,40)\",fontsize=12,color=\"black\")\n",
    "ax.axvline(x=0,color=\"black\")\n",
    "ax.axhline(y=0,color=\"black\")\n",
    "ax.set(xlabel=\"Good 1\", ylabel=\"Good 2\",title=\"Cournot - Nash Duopoly Equilibrium\")\n",
    "ax.legend()\n",
    "plt.show()"
   ]
  },
  {
   "cell_type": "code",
   "execution_count": 15,
   "metadata": {},
   "outputs": [],
   "source": [
    "def prime(f,dt=10e-3):\n",
    "    return lambda x: (f(x+dt)-f(x-dt))/(2*dt)\n",
    "\n",
    "\"\"\"\n",
    "Marginal rate of substitution of a profit function pi(.)\n",
    "\"\"\"\n",
    "def MRS(pi):\n",
    "    pi_x=lambda x1,x2: prime(lambda x1: pi(x1,x2))(x1)\n",
    "    pi_y=lambda x1,x2: prime(lambda x2: pi(x1,x2))(x2)\n",
    "    return pi_x,pi_y\n"
   ]
  },
  {
   "cell_type": "code",
   "execution_count": null,
   "metadata": {},
   "outputs": [],
   "source": []
  }
 ],
 "metadata": {
  "kernelspec": {
   "display_name": "Python 3",
   "language": "python",
   "name": "python3"
  },
  "language_info": {
   "codemirror_mode": {
    "name": "ipython",
    "version": 3
   },
   "file_extension": ".py",
   "mimetype": "text/x-python",
   "name": "python",
   "nbconvert_exporter": "python",
   "pygments_lexer": "ipython3",
   "version": "3.10.5"
  }
 },
 "nbformat": 4,
 "nbformat_minor": 2
}

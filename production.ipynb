{
 "cells": [
  {
   "cell_type": "markdown",
   "metadata": {},
   "source": [
    "# Production Analysis"
   ]
  },
  {
   "cell_type": "code",
   "execution_count": null,
   "metadata": {},
   "outputs": [],
   "source": [
    "from scientisteco.economics import PRODUCTION"
   ]
  },
  {
   "cell_type": "code",
   "execution_count": null,
   "metadata": {},
   "outputs": [],
   "source": [
    "prod = PRODUCTION(alpha=1/3,\n",
    "                  beta=2/3,\n",
    "                  A=None,\n",
    "                  pk=2,\n",
    "                  pl=6,\n",
    "                  C=1500,\n",
    "                  new_pk=None,\n",
    "                  new_pl=None,\n",
    "                  new_C=None)\n",
    "prod.fit()"
   ]
  }
 ],
 "metadata": {
  "language_info": {
   "name": "python"
  }
 },
 "nbformat": 4,
 "nbformat_minor": 2
}

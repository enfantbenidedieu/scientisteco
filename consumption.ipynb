{
 "cells": [
  {
   "cell_type": "markdown",
   "metadata": {},
   "source": [
    "# Consumption Analysis"
   ]
  },
  {
   "cell_type": "code",
   "execution_count": null,
   "metadata": {},
   "outputs": [],
   "source": [
    "# Consumption Function\n",
    "from scientisteco.behavior import CONSUMPTION"
   ]
  },
  {
   "cell_type": "markdown",
   "metadata": {},
   "source": [
    "## Cobb - Douglas Function\n",
    "\n",
    "$$\n",
    "U(x,y) = x^{\\alpha}y^{\\beta}\n",
    "$$\n",
    "\n",
    "### First step\n",
    "\n",
    "* $\\alpha = 2/3$, $\\beta=1/3$, $p_{x}=2$, $p_{y}=8$ et $R=1500$"
   ]
  },
  {
   "cell_type": "code",
   "execution_count": null,
   "metadata": {},
   "outputs": [],
   "source": [
    "# Consumption analysis\n",
    "cons = CONSUMPTION(alpha=2/3,\n",
    "                   beta= 1/3,\n",
    "                   R=1500, # Income\n",
    "                   p1=2, # price of first good\n",
    "                   p2=8, # Price of second good\n",
    "                   new_p1=None, # New first price\n",
    "                   new_p2=None, # New second price\n",
    "                   new_R=None # New Income\n",
    "                   )\n",
    "cons.fit()"
   ]
  },
  {
   "cell_type": "code",
   "execution_count": null,
   "metadata": {},
   "outputs": [],
   "source": [
    "cons.optimo_"
   ]
  },
  {
   "cell_type": "code",
   "execution_count": null,
   "metadata": {},
   "outputs": [],
   "source": [
    "# Représentation graphique\n",
    "import matplotlib.pyplot as plt\n",
    "from scientisteco.pyplot import plotCONS\n",
    "fig, ax = plt.subplots(figsize=(10,10))\n",
    "plotCONS(cons,ylim=(0,200),ax=ax)\n",
    "plt.show()"
   ]
  },
  {
   "cell_type": "markdown",
   "metadata": {},
   "source": [
    "### Second step\n",
    "\n",
    "* $\\alpha = 2/3$, $\\beta=1/3$, $p_{x}^{'}=4$, $p_{y}=8$ et $R=1500$"
   ]
  },
  {
   "cell_type": "code",
   "execution_count": null,
   "metadata": {},
   "outputs": [],
   "source": [
    "# Transform\n",
    "cons.transform(X=4.0,new=\"first-price\")"
   ]
  },
  {
   "cell_type": "code",
   "execution_count": null,
   "metadata": {},
   "outputs": [],
   "source": [
    "# Consumption analysis - First price\n",
    "cons2 = CONSUMPTION(alpha=2/3,\n",
    "                   beta= 1/3,\n",
    "                   R=1500, # Income\n",
    "                   p1=2, # price of first good\n",
    "                   p2=8, # Price of second good\n",
    "                   new_p1=4.0, # New first price\n",
    "                   new_p2=None, # New second price\n",
    "                   new_R=None # New Income\n",
    "                   )\n",
    "cons2.fit()"
   ]
  },
  {
   "cell_type": "code",
   "execution_count": null,
   "metadata": {},
   "outputs": [],
   "source": [
    "# Représentation graphique\n",
    "fig, ax = plt.subplots(figsize=(10,10))\n",
    "plotCONS(cons2,ylim=(0,325),ax=ax)\n",
    "plt.show()"
   ]
  },
  {
   "cell_type": "markdown",
   "metadata": {},
   "source": [
    "### Third step\n",
    "\n",
    "* $\\alpha = 2/3$, $\\beta=1/3$, $p_{x}=2$, $p_{y}^{'}=4$ et $R=1500$"
   ]
  },
  {
   "cell_type": "code",
   "execution_count": null,
   "metadata": {},
   "outputs": [],
   "source": [
    "# Transform\n",
    "cons.transform(X=4.0,new=\"second-price\")"
   ]
  },
  {
   "cell_type": "code",
   "execution_count": null,
   "metadata": {},
   "outputs": [],
   "source": [
    "# Consumption analysis\n",
    "cons2 = CONSUMPTION(alpha=2/3,\n",
    "                   beta= 1/3,\n",
    "                   R=1500, # Income\n",
    "                   p1=2, # price of first good\n",
    "                   p2=8, # Price of second good\n",
    "                   new_p1=None, # New first price\n",
    "                   new_p2=4.0, # New second price\n",
    "                   new_R=None # New Income\n",
    "                   )\n",
    "cons2.fit()"
   ]
  },
  {
   "cell_type": "code",
   "execution_count": null,
   "metadata": {},
   "outputs": [],
   "source": [
    "cons2.new_optimo_"
   ]
  },
  {
   "cell_type": "code",
   "execution_count": null,
   "metadata": {},
   "outputs": [],
   "source": [
    "# Graphique\n",
    "fig, ax = plt.subplots(figsize=(10,10))\n",
    "plotCONS(cons2,ylim=(0,400),ax=ax)\n",
    "plt.show()"
   ]
  },
  {
   "cell_type": "markdown",
   "metadata": {},
   "source": [
    "### Fourth step\n",
    "\n",
    "* $\\alpha = 2/3$, $\\beta=1/3$, $p_{x}=2$, $p_{y}=8$ et $R^{'}=1000$"
   ]
  },
  {
   "cell_type": "code",
   "execution_count": null,
   "metadata": {},
   "outputs": [],
   "source": [
    "# Transform\n",
    "cons.transform(X=1000.0,new=\"income\")"
   ]
  },
  {
   "cell_type": "code",
   "execution_count": null,
   "metadata": {},
   "outputs": [],
   "source": [
    "# Consumption analysis\n",
    "cons3 = CONSUMPTION(alpha=2/3,\n",
    "                   beta= 1/3,\n",
    "                   R=1500, # Income\n",
    "                   p1=2, # price of first good\n",
    "                   p2=8, # Price of second good\n",
    "                   new_p1=None, # New first price\n",
    "                   new_p2=None, # New second price\n",
    "                   new_R=1000.0 # New Income\n",
    "                   )\n",
    "cons3.fit()"
   ]
  },
  {
   "cell_type": "code",
   "execution_count": null,
   "metadata": {},
   "outputs": [],
   "source": [
    "cons3.new_optimo_"
   ]
  },
  {
   "cell_type": "code",
   "execution_count": null,
   "metadata": {},
   "outputs": [],
   "source": [
    "# Graphique\n",
    "fig, ax = plt.subplots(figsize=(10,10))\n",
    "plotCONS(cons3,ylim=(0,200),ax=ax)\n",
    "plt.show()"
   ]
  },
  {
   "cell_type": "code",
   "execution_count": null,
   "metadata": {},
   "outputs": [],
   "source": [
    "from scientisteco.ggplot import fviz_consumption\n",
    "p = fviz_consumption(cons)\n",
    "print(p)"
   ]
  }
 ],
 "metadata": {
  "kernelspec": {
   "display_name": "Python 3",
   "language": "python",
   "name": "python3"
  },
  "language_info": {
   "codemirror_mode": {
    "name": "ipython",
    "version": 3
   },
   "file_extension": ".py",
   "mimetype": "text/x-python",
   "name": "python",
   "nbconvert_exporter": "python",
   "pygments_lexer": "ipython3",
   "version": "3.10.5"
  },
  "orig_nbformat": 4
 },
 "nbformat": 4,
 "nbformat_minor": 2
}
